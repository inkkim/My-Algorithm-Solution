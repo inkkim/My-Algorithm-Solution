{
 "cells": [
  {
   "cell_type": "markdown",
   "metadata": {},
   "source": [
    "# 문제설명\n",
    "- 도둑이 어느 마을을 털 계획을 하고 있습니다. 이 마을의 모든 집들은 아래 그림과 같이 동그랗게 배치되어 있습니다.\n",
    "- 각 집들은 서로 인접한 집들과 방범장치가 연결되어 있기 때문에 인접한 두 집을 털면 경보가 울립니다.\n",
    "- 각 집에 있는 돈이 담긴 배열 money가 주어질 때, 도둑이 훔칠 수 있는 돈의 최댓값을 return 하도록 solution 함수를 작성하세요.\n",
    "\n",
    "## 제한사항\n",
    "- 이 마을에 있는 집은 3개 이상 1,000,000개 이하입니다.\n",
    "- money 배열의 각 원소는 0 이상 1,000 이하인 정수입니다.\n",
    "\n",
    "## 입출력 예\n",
    "- money = [1, 2, 3, 1]\n",
    "- return = 4"
   ]
  },
  {
   "cell_type": "code",
   "execution_count": 1,
   "metadata": {
    "ExecuteTime": {
     "end_time": "2021-02-27T00:44:33.734151Z",
     "start_time": "2021-02-27T00:44:33.724286Z"
    }
   },
   "outputs": [],
   "source": [
    "def solution(money):\n",
    "    result = []\n",
    "    # 첫 집을 털경우\n",
    "    table = [0 for i in range(len(money))] \n",
    "    table[0] = money[0]\n",
    "    table[1] = money[0]\n",
    "    for i in range(2, len(money)-1):\n",
    "        table[i] = max(table[i-1], table[i-2] + money[i])\n",
    "    result.append(max(table))\n",
    "    \n",
    "    # 마지막 집을 털 경우\n",
    "    table = [0 for i in range(len(money))]\n",
    "    table[1] = money[1]\n",
    "    for i in range(2, len(money)):\n",
    "        table[i] = max(table[i-1], table[i-2] + money[i])\n",
    "    result.append(max(table))\n",
    "    \n",
    "    return(max(result))"
   ]
  },
  {
   "cell_type": "code",
   "execution_count": 2,
   "metadata": {
    "ExecuteTime": {
     "end_time": "2021-02-27T00:44:33.970498Z",
     "start_time": "2021-02-27T00:44:33.967427Z"
    }
   },
   "outputs": [],
   "source": [
    "money = [1, 2, 3, 1]"
   ]
  },
  {
   "cell_type": "code",
   "execution_count": 3,
   "metadata": {
    "ExecuteTime": {
     "end_time": "2021-02-27T00:44:34.293383Z",
     "start_time": "2021-02-27T00:44:34.280180Z"
    }
   },
   "outputs": [
    {
     "data": {
      "text/plain": [
       "4"
      ]
     },
     "execution_count": 3,
     "metadata": {},
     "output_type": "execute_result"
    }
   ],
   "source": [
    "solution(money)"
   ]
  },
  {
   "cell_type": "code",
   "execution_count": null,
   "metadata": {},
   "outputs": [],
   "source": []
  }
 ],
 "metadata": {
  "kernelspec": {
   "display_name": "Python 3",
   "language": "python",
   "name": "python3"
  },
  "language_info": {
   "codemirror_mode": {
    "name": "ipython",
    "version": 3
   },
   "file_extension": ".py",
   "mimetype": "text/x-python",
   "name": "python",
   "nbconvert_exporter": "python",
   "pygments_lexer": "ipython3",
   "version": "3.8.3"
  },
  "toc": {
   "base_numbering": 1,
   "nav_menu": {},
   "number_sections": true,
   "sideBar": true,
   "skip_h1_title": false,
   "title_cell": "Table of Contents",
   "title_sidebar": "Contents",
   "toc_cell": false,
   "toc_position": {},
   "toc_section_display": true,
   "toc_window_display": false
  }
 },
 "nbformat": 4,
 "nbformat_minor": 4
}
