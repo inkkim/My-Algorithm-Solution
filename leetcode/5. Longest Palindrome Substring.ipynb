{
 "cells": [
  {
   "cell_type": "markdown",
   "metadata": {},
   "source": [
    "# Problem\n",
    "![image](https://user-images.githubusercontent.com/60086878/104456912-b9a25b00-55ec-11eb-8ffd-e7a74b812e89.png)"
   ]
  },
  {
   "cell_type": "markdown",
   "metadata": {},
   "source": [
    "# Suggestion\n",
    "- 두 개의 투 포인터 활용\n",
    "- 슬라이딩 윈도우처럼 탐색"
   ]
  },
  {
   "cell_type": "code",
   "execution_count": 24,
   "metadata": {
    "ExecuteTime": {
     "end_time": "2021-01-13T14:21:35.917416Z",
     "start_time": "2021-01-13T14:21:35.908153Z"
    }
   },
   "outputs": [],
   "source": [
    "class Solution:\n",
    "    def longestPalindrome(self, s: str) -> str:\n",
    "        def expand(left: int, right: int) -> str:\n",
    "            while left >= 0 and right <= len(s) and s[left] == s[right - 1]:\n",
    "                left -= 1\n",
    "                right += 1\n",
    "            return s[left + 1:right - 1]\n",
    "        \n",
    "        if len(s) < 2 or s == s[::-1]:\n",
    "            return s\n",
    "        \n",
    "        res = ''\n",
    "        for i in range(len(s) - 1):\n",
    "            res = max(res,\n",
    "                      expand(i, i + 1),\n",
    "                      expand(i, i + 2),\n",
    "                      key = len)\n",
    "        return res"
   ]
  },
  {
   "cell_type": "code",
   "execution_count": 26,
   "metadata": {
    "ExecuteTime": {
     "end_time": "2021-01-13T14:21:40.096423Z",
     "start_time": "2021-01-13T14:21:40.090936Z"
    }
   },
   "outputs": [
    {
     "name": "stdout",
     "output_type": "stream",
     "text": [
      "bab\n"
     ]
    }
   ],
   "source": [
    "s1 = \"babad\"\n",
    "s2 = \"cbbd\"\n",
    "s3 = \"a\"\n",
    "s4 = \"ac\"\n",
    "s = Solution()\n",
    "print(s.longestPalindrome(s1))"
   ]
  },
  {
   "cell_type": "markdown",
   "metadata": {},
   "source": [
    "### Runtime\n",
    "![image](https://user-images.githubusercontent.com/60086878/104464378-3259e500-55f6-11eb-9e45-dc6cd2c4432d.png)\n",
    "### Memory\n",
    "![image](https://user-images.githubusercontent.com/60086878/104464400-3980f300-55f6-11eb-971d-7f79319c46db.png)"
   ]
  }
 ],
 "metadata": {
  "kernelspec": {
   "display_name": "Python 3",
   "language": "python",
   "name": "python3"
  },
  "language_info": {
   "codemirror_mode": {
    "name": "ipython",
    "version": 3
   },
   "file_extension": ".py",
   "mimetype": "text/x-python",
   "name": "python",
   "nbconvert_exporter": "python",
   "pygments_lexer": "ipython3",
   "version": "3.8.3"
  },
  "toc": {
   "base_numbering": 1,
   "nav_menu": {},
   "number_sections": true,
   "sideBar": true,
   "skip_h1_title": false,
   "title_cell": "Table of Contents",
   "title_sidebar": "Contents",
   "toc_cell": false,
   "toc_position": {},
   "toc_section_display": true,
   "toc_window_display": false
  }
 },
 "nbformat": 4,
 "nbformat_minor": 4
}
