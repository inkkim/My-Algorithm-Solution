{
 "cells": [
  {
   "cell_type": "markdown",
   "metadata": {},
   "source": [
    "# Problem\n",
    "- __공간복잡도 O(1)로 제한__\n",
    "![](https://user-images.githubusercontent.com/60086878/103434620-712b8a80-4c47-11eb-98f3-ac8b014abb44.png)"
   ]
  },
  {
   "cell_type": "markdown",
   "metadata": {},
   "source": [
    "# My Solution\n",
    "- 파이썬다운 방식"
   ]
  },
  {
   "cell_type": "code",
   "execution_count": 38,
   "metadata": {
    "ExecuteTime": {
     "end_time": "2021-01-01T07:03:06.845048Z",
     "start_time": "2021-01-01T07:03:06.841198Z"
    }
   },
   "outputs": [
    {
     "name": "stdout",
     "output_type": "stream",
     "text": [
      "['f', 'e', 'd', 'c', 'b', 'a']\n",
      "None\n"
     ]
    }
   ],
   "source": [
    "class Solution:\n",
    "    def reverseString(self, s: list) -> None:\n",
    "        s[:] = s[::-1]\n",
    "        print(s)\n",
    "\n",
    "text = ['a', 'b', 'c', 'd', 'e', 'f']\n",
    "s = Solution()\n",
    "print(s.reverseString(text))"
   ]
  },
  {
   "cell_type": "markdown",
   "metadata": {},
   "source": [
    "# Suggestion"
   ]
  },
  {
   "cell_type": "markdown",
   "metadata": {},
   "source": [
    "## 투 포인터를 이용한 스왑\n",
    "- 매우 전통적인 방식"
   ]
  },
  {
   "cell_type": "code",
   "execution_count": 39,
   "metadata": {
    "ExecuteTime": {
     "end_time": "2021-01-01T07:03:08.507597Z",
     "start_time": "2021-01-01T07:03:08.502523Z"
    }
   },
   "outputs": [
    {
     "name": "stdout",
     "output_type": "stream",
     "text": [
      "['f', 'e', 'd', 'c', 'b', 'a']\n",
      "None\n"
     ]
    }
   ],
   "source": [
    "class Suggestion1:\n",
    "    def reverseString(self, s: list) -> None:\n",
    "        left, right = 0, len(s) -1\n",
    "        while left < right:\n",
    "            s[left], s[right] = s[right], s[left]\n",
    "            left += 1\n",
    "            right -= 1\n",
    "        print(s)\n",
    "            \n",
    "text = ['a', 'b', 'c', 'd', 'e', 'f']\n",
    "s = Suggestion1()\n",
    "print(s.reverseString(text))"
   ]
  },
  {
   "cell_type": "markdown",
   "metadata": {},
   "source": [
    "## 파이썬 내장함수\n",
    "- 파이썬다운 방식"
   ]
  },
  {
   "cell_type": "code",
   "execution_count": 40,
   "metadata": {
    "ExecuteTime": {
     "end_time": "2021-01-01T07:03:10.176574Z",
     "start_time": "2021-01-01T07:03:10.172235Z"
    }
   },
   "outputs": [
    {
     "name": "stdout",
     "output_type": "stream",
     "text": [
      "['f', 'e', 'd', 'c', 'b', 'a']\n",
      "None\n"
     ]
    }
   ],
   "source": [
    "class Suggestion2:\n",
    "    def reverseString(self, s: list) -> None:\n",
    "        s.reverse()\n",
    "        print(s)\n",
    "text = ['a', 'b', 'c', 'd', 'e', 'f']\n",
    "s = Suggestion2()\n",
    "print(s.reverseString(text))"
   ]
  },
  {
   "cell_type": "markdown",
   "metadata": {},
   "source": [
    "### Runtime\n",
    "![](https://user-images.githubusercontent.com/60086878/103434908-23b11c80-4c4b-11eb-9c3c-494b9d3e537e.png)\n",
    "### Memory\n",
    "![](https://user-images.githubusercontent.com/60086878/103434913-2ca1ee00-4c4b-11eb-8db7-0365fc5db82c.png)"
   ]
  }
 ],
 "metadata": {
  "kernelspec": {
   "display_name": "Python 3",
   "language": "python",
   "name": "python3"
  },
  "language_info": {
   "codemirror_mode": {
    "name": "ipython",
    "version": 3
   },
   "file_extension": ".py",
   "mimetype": "text/x-python",
   "name": "python",
   "nbconvert_exporter": "python",
   "pygments_lexer": "ipython3",
   "version": "3.8.3"
  },
  "toc": {
   "base_numbering": 1,
   "nav_menu": {},
   "number_sections": true,
   "sideBar": true,
   "skip_h1_title": false,
   "title_cell": "Table of Contents",
   "title_sidebar": "Contents",
   "toc_cell": false,
   "toc_position": {},
   "toc_section_display": true,
   "toc_window_display": false
  }
 },
 "nbformat": 4,
 "nbformat_minor": 4
}
