{
 "cells": [
  {
   "cell_type": "markdown",
   "metadata": {},
   "source": [
    "# Problem\n",
    "- 문자를 제외한 모든 특수문자 제외\n",
    "- banned에 포함된 문자열을 제외한 가장 흔한 단어 찾기\n",
    "![image](https://user-images.githubusercontent.com/60086878/103515883-e058e700-4eb2-11eb-8a91-d2993bda3428.png)"
   ]
  },
  {
   "cell_type": "markdown",
   "metadata": {},
   "source": [
    "# Solution\n",
    "- 정규표현식, collections.Counter() 객체 활용"
   ]
  },
  {
   "cell_type": "code",
   "execution_count": 123,
   "metadata": {
    "ExecuteTime": {
     "end_time": "2021-01-04T08:27:47.908342Z",
     "start_time": "2021-01-04T08:27:47.902414Z"
    }
   },
   "outputs": [],
   "source": [
    "from collections import Counter\n",
    "import re\n",
    "\n",
    "class Solution:\n",
    "    def mostCommonWord(self, paragraph: str, banned: list) -> str:\n",
    "        paragraph = paragraph.lower()\n",
    "        paragraph = re.sub(\"[^\\w]\", \" \", paragraph).split()\n",
    "        paragraph = [word for word in paragraph if word not in banned]\n",
    "        \n",
    "        ans = Counter(paragraph)\n",
    "        return ans.most_common(1)[0][0]"
   ]
  },
  {
   "cell_type": "code",
   "execution_count": 133,
   "metadata": {
    "ExecuteTime": {
     "end_time": "2021-01-04T08:36:38.745450Z",
     "start_time": "2021-01-04T08:36:38.740854Z"
    }
   },
   "outputs": [
    {
     "data": {
      "text/plain": [
       "'ball'"
      ]
     },
     "execution_count": 133,
     "metadata": {},
     "output_type": "execute_result"
    }
   ],
   "source": [
    "paragraph = \"Bob hit a ball, the hit BALL flew far after it was hit.\"\n",
    "banned = [\"hit\"]\n",
    "s = Solution()\n",
    "s.mostCommonWord(paragraph, banned)"
   ]
  },
  {
   "cell_type": "markdown",
   "metadata": {},
   "source": [
    "# Suggestion\n",
    "- 정규표현식과 collections.defaultdict() 객체 활용"
   ]
  },
  {
   "cell_type": "code",
   "execution_count": 143,
   "metadata": {
    "ExecuteTime": {
     "end_time": "2021-01-04T08:39:55.356564Z",
     "start_time": "2021-01-04T08:39:55.351628Z"
    }
   },
   "outputs": [],
   "source": [
    "from collections import defaultdict\n",
    "\n",
    "class Solution:\n",
    "    def mostCommonWord(self, paragraph: str, banned: list) -> str:\n",
    "        words = [word for word in re.sub(r\"[^\\w]\", \" \", paragraph)\n",
    "               .lower().split()\n",
    "               if word not in banned]\n",
    "        counts = defaultdict(int)\n",
    "\n",
    "        for word in words:\n",
    "            counts[word] += 1\n",
    "        print(counts)\n",
    "        return max(counts, key = counts.get)"
   ]
  },
  {
   "cell_type": "code",
   "execution_count": 144,
   "metadata": {
    "ExecuteTime": {
     "end_time": "2021-01-04T08:39:55.540416Z",
     "start_time": "2021-01-04T08:39:55.536344Z"
    }
   },
   "outputs": [
    {
     "name": "stdout",
     "output_type": "stream",
     "text": [
      "defaultdict(<class 'int'>, {'bob': 1, 'a': 1, 'ball': 2, 'the': 1, 'flew': 1, 'far': 1, 'after': 1, 'it': 1, 'was': 1})\n"
     ]
    },
    {
     "data": {
      "text/plain": [
       "'ball'"
      ]
     },
     "execution_count": 144,
     "metadata": {},
     "output_type": "execute_result"
    }
   ],
   "source": [
    "paragraph = \"Bob hit a ball, the hit BALL flew far after it was hit.\"\n",
    "banned = [\"hit\"]\n",
    "s = Solution()\n",
    "s.mostCommonWord(paragraph, banned)"
   ]
  },
  {
   "cell_type": "markdown",
   "metadata": {},
   "source": [
    "# Runtime\n",
    "![image](https://user-images.githubusercontent.com/60086878/103516461-eef3ce00-4eb3-11eb-9045-89c8637b2531.png)\n",
    "# Memory\n",
    "![image](https://user-images.githubusercontent.com/60086878/103516474-f5824580-4eb3-11eb-8d2e-2691d7ed9813.png)"
   ]
  }
 ],
 "metadata": {
  "kernelspec": {
   "display_name": "Python 3",
   "language": "python",
   "name": "python3"
  },
  "language_info": {
   "codemirror_mode": {
    "name": "ipython",
    "version": 3
   },
   "file_extension": ".py",
   "mimetype": "text/x-python",
   "name": "python",
   "nbconvert_exporter": "python",
   "pygments_lexer": "ipython3",
   "version": "3.8.3"
  },
  "toc": {
   "base_numbering": 1,
   "nav_menu": {},
   "number_sections": true,
   "sideBar": true,
   "skip_h1_title": false,
   "title_cell": "Table of Contents",
   "title_sidebar": "Contents",
   "toc_cell": false,
   "toc_position": {},
   "toc_section_display": true,
   "toc_window_display": false
  }
 },
 "nbformat": 4,
 "nbformat_minor": 4
}
