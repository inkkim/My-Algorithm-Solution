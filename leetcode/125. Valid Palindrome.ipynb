{
 "cells": [
  {
   "cell_type": "markdown",
   "metadata": {},
   "source": [
    "# Problem\n",
    "![](https://user-images.githubusercontent.com/60086878/103412787-316a9180-4bba-11eb-8b99-ab26dbc8d943.png)"
   ]
  },
  {
   "cell_type": "markdown",
   "metadata": {},
   "source": [
    "# My Solution\n",
    "- 절차가 간결하고 빠름\n",
    "- 메모리 사용량이 상대적으로 적음"
   ]
  },
  {
   "cell_type": "code",
   "execution_count": 3,
   "metadata": {
    "ExecuteTime": {
     "end_time": "2020-12-31T13:50:10.952750Z",
     "start_time": "2020-12-31T13:50:10.945582Z"
    }
   },
   "outputs": [
    {
     "name": "stdout",
     "output_type": "stream",
     "text": [
      "True\n",
      "False\n"
     ]
    }
   ],
   "source": [
    "import re\n",
    "\n",
    "def solution1(text):\n",
    "    pattern = re.compile('[0-9a-z]+')\n",
    "    ans = ''.join(pattern.findall(text.lower()))\n",
    "    return ans == ans[::-1]\n",
    "\n",
    "text1 = 'A man, a plan. a canal: Panama'\n",
    "text2 = 'race a car'\n",
    "\n",
    "print(solution1(text1))\n",
    "print(solution1(text2))"
   ]
  },
  {
   "cell_type": "markdown",
   "metadata": {},
   "source": [
    "# Suggestion\n",
    "- 반복문 2회 사용\n",
    "- list.pop(0)으로 list의 길이가 늘어날 경우 연산에 부담\n",
    "- 시간 복잡도 O(n)"
   ]
  },
  {
   "cell_type": "code",
   "execution_count": 4,
   "metadata": {
    "ExecuteTime": {
     "end_time": "2020-12-31T13:50:11.515602Z",
     "start_time": "2020-12-31T13:50:11.506997Z"
    }
   },
   "outputs": [
    {
     "name": "stdout",
     "output_type": "stream",
     "text": [
      "True\n",
      "False\n"
     ]
    }
   ],
   "source": [
    "def solution2(text):\n",
    "    strs = []\n",
    "    for char in text:\n",
    "        if char.isalnum():\n",
    "            strs.append(char.lower())\n",
    "    while len(strs) > 1:\n",
    "        if strs.pop(0) != strs.pop():\n",
    "            return False\n",
    "    return True\n",
    "\n",
    "text1 = 'A man, a plan. a canal: Panama'\n",
    "text2 = 'race a car'\n",
    "\n",
    "print(solution2(text1))\n",
    "print(solution2(text2))"
   ]
  },
  {
   "cell_type": "markdown",
   "metadata": {},
   "source": [
    "### Runtime\n",
    "![](https://user-images.githubusercontent.com/60086878/103412889-ac33ac80-4bba-11eb-80e2-773bc66e4e6e.png)\n",
    "### Memory\n",
    "![](https://user-images.githubusercontent.com/60086878/103412885-a9d15280-4bba-11eb-9ca9-cae7f9fd22b3.png)"
   ]
  }
 ],
 "metadata": {
  "kernelspec": {
   "display_name": "Python 3",
   "language": "python",
   "name": "python3"
  },
  "language_info": {
   "codemirror_mode": {
    "name": "ipython",
    "version": 3
   },
   "file_extension": ".py",
   "mimetype": "text/x-python",
   "name": "python",
   "nbconvert_exporter": "python",
   "pygments_lexer": "ipython3",
   "version": "3.8.3"
  },
  "toc": {
   "base_numbering": 1,
   "nav_menu": {},
   "number_sections": true,
   "sideBar": true,
   "skip_h1_title": false,
   "title_cell": "Table of Contents",
   "title_sidebar": "Contents",
   "toc_cell": false,
   "toc_position": {},
   "toc_section_display": true,
   "toc_window_display": false
  }
 },
 "nbformat": 4,
 "nbformat_minor": 4
}
