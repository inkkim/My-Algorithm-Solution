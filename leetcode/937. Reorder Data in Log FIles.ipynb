{
 "cells": [
  {
   "cell_type": "markdown",
   "metadata": {},
   "source": [
    "# Problem\n",
    "- 로그의 가장 앞 부분은 식별자\n",
    "- 문자로 구성된 로그가 숫자 로그보다 앞에 위치\n",
    "- 식별자는 순서에 영향 X, 하지만 문자가 동일할 경우 식별자 순 정렬\n",
    "- 숫자 로그는 입력 순 그대로\n",
    "![image](https://user-images.githubusercontent.com/60086878/103508735-e647cb80-4ea4-11eb-9fb2-f484e40ae849.png)"
   ]
  },
  {
   "cell_type": "markdown",
   "metadata": {},
   "source": [
    "# My Solution\n",
    "- sorted 함수의 정렬 우선순위 활용"
   ]
  },
  {
   "cell_type": "code",
   "execution_count": 51,
   "metadata": {
    "ExecuteTime": {
     "end_time": "2021-01-04T07:19:22.041874Z",
     "start_time": "2021-01-04T07:19:22.038043Z"
    }
   },
   "outputs": [],
   "source": [
    "class Solution:\n",
    "    def reorderLogFiles(self, logs: list) -> list:\n",
    "        def get_key(log):\n",
    "            _id, rest = log.split(\" \", maxsplit=1)\n",
    "            return (0, rest, _id) if rest[0].isalpha() else (1, )\n",
    "        \n",
    "        return sorted(logs, key= get_key)    "
   ]
  },
  {
   "cell_type": "code",
   "execution_count": 52,
   "metadata": {
    "ExecuteTime": {
     "end_time": "2021-01-04T07:19:22.308940Z",
     "start_time": "2021-01-04T07:19:22.304657Z"
    }
   },
   "outputs": [
    {
     "data": {
      "text/plain": [
       "['let1 art can',\n",
       " 'let3 art zero',\n",
       " 'let2 own kit dig',\n",
       " 'dig1 8 1 5 1',\n",
       " 'dig2 3 6']"
      ]
     },
     "execution_count": 52,
     "metadata": {},
     "output_type": "execute_result"
    }
   ],
   "source": [
    "s = Solution()\n",
    "s.reorderLogFiles([\"dig1 8 1 5 1\",\"let1 art can\",\"dig2 3 6\",\"let2 own kit dig\",\"let3 art zero\"])"
   ]
  },
  {
   "cell_type": "markdown",
   "metadata": {},
   "source": [
    "# Suggestion\n",
    "- lambda와 list의 + 연산자 활용"
   ]
  },
  {
   "cell_type": "code",
   "execution_count": 44,
   "metadata": {
    "ExecuteTime": {
     "end_time": "2021-01-04T07:03:00.657536Z",
     "start_time": "2021-01-04T07:03:00.653597Z"
    }
   },
   "outputs": [],
   "source": [
    "class Solution:\n",
    "    def reorderLogFiles(self, logs: list) -> list:\n",
    "        digits = []\n",
    "        letters = []\n",
    "        \n",
    "        for log in logs:\n",
    "            if log.split()[1].isdigit():\n",
    "                digits.append(log)\n",
    "            else:\n",
    "                letters.append(log)\n",
    "        letters.sort(key = lambda x: (x.split()[1:], x.split()[0]))\n",
    "        return letters + digits"
   ]
  },
  {
   "cell_type": "code",
   "execution_count": 43,
   "metadata": {
    "ExecuteTime": {
     "end_time": "2021-01-04T07:02:27.126173Z",
     "start_time": "2021-01-04T07:02:27.122645Z"
    }
   },
   "outputs": [
    {
     "data": {
      "text/plain": [
       "['let1 art can',\n",
       " 'let3 art zero',\n",
       " 'let2 own kit dig',\n",
       " 'dig1 8 1 5 1',\n",
       " 'dig2 3 6']"
      ]
     },
     "execution_count": 43,
     "metadata": {},
     "output_type": "execute_result"
    }
   ],
   "source": [
    "s = Solution()\n",
    "s.reorderLogFiles([\"dig1 8 1 5 1\",\"let1 art can\",\"dig2 3 6\",\"let2 own kit dig\",\"let3 art zero\"])"
   ]
  },
  {
   "cell_type": "markdown",
   "metadata": {},
   "source": [
    "# Runtime\n",
    "![image](https://user-images.githubusercontent.com/60086878/103510621-efd33280-4ea8-11eb-9012-84869d5bdb02.png)\n",
    "\n",
    "# Memory\n",
    "![image](https://user-images.githubusercontent.com/60086878/103510642-f792d700-4ea8-11eb-9aa8-704eaf78d383.png)"
   ]
  },
  {
   "cell_type": "code",
   "execution_count": null,
   "metadata": {},
   "outputs": [],
   "source": []
  }
 ],
 "metadata": {
  "kernelspec": {
   "display_name": "Python 3",
   "language": "python",
   "name": "python3"
  },
  "language_info": {
   "codemirror_mode": {
    "name": "ipython",
    "version": 3
   },
   "file_extension": ".py",
   "mimetype": "text/x-python",
   "name": "python",
   "nbconvert_exporter": "python",
   "pygments_lexer": "ipython3",
   "version": "3.8.3"
  },
  "toc": {
   "base_numbering": 1,
   "nav_menu": {},
   "number_sections": true,
   "sideBar": true,
   "skip_h1_title": false,
   "title_cell": "Table of Contents",
   "title_sidebar": "Contents",
   "toc_cell": false,
   "toc_position": {},
   "toc_section_display": true,
   "toc_window_display": false
  }
 },
 "nbformat": 4,
 "nbformat_minor": 4
}
